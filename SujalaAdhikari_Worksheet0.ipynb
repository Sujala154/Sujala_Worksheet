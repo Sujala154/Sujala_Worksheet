{
 "cells": [
  {
   "cell_type": "markdown",
   "id": "3aa782d5-09c8-4cca-8469-ab2b6c5afeb0",
   "metadata": {},
   "source": [
    "Sample Code - List of temperature measured at Tribhuwan International Airport.\n",
    "temperatures = [8.2, 17.4, 14.1, 7.9, 18.0, 13.5, 9.0, 17.8, 13.0, 8.5,\n",
    "16.5, 12.9, 7.7, 17.2, 13.3, 8.4, 16.7, 14.0, 9.5, 18.3, 13.4, 8.1,\n",
    "17.9, 14.2, 7.6, 17.0, 12.8, 8.0, 16.8, 13.7, 7.8, 17.5, 13.6, 8.7,\n",
    "17.1, 13.8, 9.2, 18.1, 13.9, 8.3, 16.4, 12.7, 8.9, 18.2, 13.1, 7.8,\n",
    "16.6, 12.5]\n",
    "Complete all the task below:\n",
    "\n",
    "Task 1. Classify Temperatures:\n",
    "1. Create empty lists for temperature classifications:\n",
    "(a) Cold: temperatures below 10°C.\n",
    "(b) Mild: temperatures between 10°C and 15°C.\n",
    "(c) Comfortable: temperatures between 15°C and 20°C.\n",
    "2. Iterate over the temperatures list and add each temperature to the appropriate cate\u0002gory.\n",
    "3. Print the lists to verify the classifications."
   ]
  },
  {
   "cell_type": "code",
   "execution_count": 11,
   "id": "1bfb69e4-005c-4461-a9ab-cd466272993d",
   "metadata": {},
   "outputs": [
    {
     "name": "stdout",
     "output_type": "stream",
     "text": [
      "Cold temperatures: [8.2, 7.9, 9.0, 8.5, 7.7, 8.4, 9.5, 8.1, 7.6, 8.0, 7.8, 8.7, 9.2, 8.3, 8.9, 7.8]\n",
      "Mild temperatures: [14.1, 13.5, 13.0, 12.9, 13.3, 14.0, 13.4, 14.2, 12.8, 13.7, 13.6, 13.8, 13.9, 12.7, 13.1, 12.5]\n",
      "Comfortable temperatures: [17.4, 18.0, 17.8, 16.5, 17.2, 16.7, 18.3, 17.9, 17.0, 16.8, 17.5, 17.1, 18.1, 16.4, 18.2, 16.6]\n"
     ]
    }
   ],
   "source": [
    "temperatures = [8.2, 17.4, 14.1, 7.9, 18.0, 13.5, 9.0, 17.8, 13.0, 8.5, \n",
    "                16.5, 12.9, 7.7, 17.2, 13.3, 8.4, 16.7, 14.0, 9.5, 18.3, \n",
    "                13.4, 8.1, 17.9, 14.2, 7.6, 17.0, 12.8, 8.0, 16.8, 13.7, \n",
    "                7.8, 17.5, 13.6, 8.7, 17.1, 13.8, 9.2, 18.1, 13.9, 8.3, \n",
    "                16.4, 12.7, 8.9, 18.2, 13.1, 7.8, 16.6, 12.5]\n",
    "\n",
    "cold = []  \n",
    "mild = []  \n",
    "comfortable = [] \n",
    "\n",
    "for temp in temperatures:\n",
    "    if temp < 10:\n",
    "        cold.append(temp)\n",
    "    elif 10 <= temp < 15:\n",
    "        mild.append(temp) \n",
    "    elif 15 <= temp < 20:\n",
    "        comfortable.append(temp) \n",
    "\n",
    "print(\"Cold temperatures:\", cold)\n",
    "print(\"Mild temperatures:\", mild)\n",
    "print(\"Comfortable temperatures:\", comfortable)\n"
   ]
  },
  {
   "cell_type": "markdown",
   "id": "0e4b3f4d-4c65-4a76-84b9-c00337c5982d",
   "metadata": {},
   "source": [
    "Task 2. Based on Data - Answer all the Questions:\n",
    "1. How many times was it mild?\n",
    "(a) Hint: Count the number of items in the mild list and print the result.\n",
    "2. How many times was it comfortable?\n",
    "3. How many times was it cold?"
   ]
  },
  {
   "cell_type": "code",
   "execution_count": 9,
   "id": "1fcb7cb3-20a8-4236-bd21-8b27ceef95c6",
   "metadata": {},
   "outputs": [
    {
     "name": "stdout",
     "output_type": "stream",
     "text": [
      "It was mild 16 times.\n",
      "\n",
      "It was comfortable 16 times.\n",
      "\n",
      "It was cold 16 times.\n",
      "\n"
     ]
    }
   ],
   "source": [
    "temperatures = [8.2, 17.4, 14.1, 7.9, 18.0, 13.5, 9.0, 17.8, 13.0, 8.5, \n",
    "                16.5, 12.9, 7.7, 17.2, 13.3, 8.4, 16.7, 14.0, 9.5, 18.3, \n",
    "                13.4, 8.1, 17.9, 14.2, 7.6, 17.0, 12.8, 8.0, 16.8, 13.7, \n",
    "                7.8, 17.5, 13.6, 8.7, 17.1, 13.8, 9.2, 18.1, 13.9, 8.3, \n",
    "                16.4, 12.7, 8.9, 18.2, 13.1, 7.8, 16.6, 12.5]\n",
    "\n",
    "cold = [] \n",
    "mild = [] \n",
    "comfortable = []\n",
    "\n",
    "for temp in temperatures:\n",
    "    if temp < 10:\n",
    "        cold.append(temp) \n",
    "    elif 10 <= temp < 15:\n",
    "        mild.append(temp) \n",
    "    elif 15 <= temp < 20:\n",
    "        comfortable.append(temp) \n",
    "\n",
    "coldcount = len(cold)        \n",
    "mildcount = len(mild)          \n",
    "comfortablecount = len(comfortable) \n",
    "\n",
    "print(f\"It was mild {mildcount} times.\\n\")\n",
    "print(f\"It was comfortable {comfortablecount} times.\\n\")\n",
    "print(f\"It was cold {coldcount} times.\\n\")"
   ]
  },
  {
   "cell_type": "markdown",
   "id": "828c599a-0bc5-4df1-ad35-ff4989ac0891",
   "metadata": {},
   "source": [
    "Task 3. Convert Temperatures from Celsius to Fahrenheit\n",
    "Using the formula for temperature conversion, convert each reading from Celsius to Fahren\u0002heit and store it in a new list called temperatures_fahrenheit.\n",
    "9\n",
    "Formula: Fahrenheit = (Celsius × ) + 32\n",
    "5\n",
    "1. Iterate over the temperatures list and apply the formula to convert each temperature.\n",
    "2. Store the results in the new list.\n",
    "3. Print the converted Fahrenheit values."
   ]
  },
  {
   "cell_type": "code",
   "execution_count": 10,
   "id": "3248196a-98a1-4565-879c-9ff327a2d0c7",
   "metadata": {},
   "outputs": [
    {
     "name": "stdout",
     "output_type": "stream",
     "text": [
      "Temperatures in Fahrenheit:\n",
      "[46.76, 63.32, 57.379999999999995, 46.22, 64.4, 56.3, 48.2, 64.04, 55.4, 47.3, 61.7, 55.22, 45.86, 62.959999999999994, 55.94, 47.120000000000005, 62.059999999999995, 57.2, 49.1, 64.94, 56.120000000000005, 46.58, 64.22, 57.56, 45.68, 62.6, 55.04, 46.4, 62.24, 56.66, 46.04, 63.5, 56.48, 47.66, 62.78, 56.84, 48.56, 64.58, 57.02, 46.94, 61.519999999999996, 54.86, 48.02, 64.75999999999999, 55.58, 46.04, 61.88, 54.5]\n"
     ]
    }
   ],
   "source": [
    "temperatures = [8.2, 17.4, 14.1, 7.9, 18.0, 13.5, 9.0, 17.8, 13.0, 8.5, \n",
    "                16.5, 12.9, 7.7, 17.2, 13.3, 8.4, 16.7, 14.0, 9.5, 18.3, \n",
    "                13.4, 8.1, 17.9, 14.2, 7.6, 17.0, 12.8, 8.0, 16.8, 13.7, \n",
    "                7.8, 17.5, 13.6, 8.7, 17.1, 13.8, 9.2, 18.1, 13.9, 8.3, \n",
    "                16.4, 12.7, 8.9, 18.2, 13.1, 7.8, 16.6, 12.5]\n",
    "\n",
    "temperaturesfahrenheit = []\n",
    "\n",
    "for temp in temperatures:\n",
    "    fahrenheit = (temp * 9 / 5) + 32  \n",
    "    temperaturesfahrenheit.append(fahrenheit) \n",
    "\n",
    "print(\"Temperatures in Fahrenheit:\" temperaturesfahrenheit)"
   ]
  },
  {
   "cell_type": "markdown",
   "id": "546ec9fc-424b-44ad-953f-26bc7497871d",
   "metadata": {},
   "source": [
    "Task 4. Analyze Temperature Patterns by Time of Day:\n",
    "Scenario: Each day’s readings are grouped as:\n",
    "• Night (00-08),\n",
    "• Evening (08-16),\n",
    "• Day (16-24).\n",
    "1. Create empty lists for night, day, and evening temperatures.\n",
    "2. Iterate over the temperatures list, assigning values to each time-of-day list based on\n",
    "their position.\n",
    "3. Calculate and print the average day-time temperature.\n",
    "4. (Optional) Plot ”day vs. temperature” using matplotlib."
   ]
  },
  {
   "cell_type": "code",
   "execution_count": 8,
   "id": "a2efcdfa-d29b-4b16-a5d9-220de840cbc1",
   "metadata": {},
   "outputs": [
    {
     "name": "stdout",
     "output_type": "stream",
     "text": [
      "Night temperatures: [7.9, 7.7, 7.6, 8.0, 7.8, 7.8]\n",
      "Evening temperatures: [8.2, 14.1, 13.5, 9.0, 13.0, 8.5, 12.9, 13.3, 8.4, 14.0, 9.5, 13.4, 8.1, 14.2, 12.8, 13.7, 13.6, 8.7, 13.8, 9.2, 13.9, 8.3, 12.7, 8.9, 13.1, 12.5]\n",
      "Day temperatures: [17.4, 18.0, 17.8, 16.5, 17.2, 16.7, 18.3, 17.9, 17.0, 16.8, 17.5, 17.1, 18.1, 16.4, 18.2, 16.6]\n",
      "avg is  17.343750000000004\n"
     ]
    }
   ],
   "source": [
    "temperatures = [8.2, 17.4, 14.1, 7.9, 18.0, 13.5, 9.0, 17.8, 13.0, 8.5, \n",
    "                16.5, 12.9, 7.7, 17.2, 13.3, 8.4, 16.7, 14.0, 9.5, 18.3, \n",
    "                13.4, 8.1, 17.9, 14.2, 7.6, 17.0, 12.8, 8.0, 16.8, 13.7, \n",
    "                7.8, 17.5, 13.6, 8.7, 17.1, 13.8, 9.2, 18.1, 13.9, 8.3, \n",
    "                16.4, 12.7, 8.9, 18.2, 13.1, 7.8, 16.6, 12.5]\n",
    "\n",
    "\n",
    "night=[]\n",
    "day=[]\n",
    "evening=[]\n",
    "\n",
    "for temp in temperatures:\n",
    "    if 0<temp<=8:\n",
    "        night.append(temp)\n",
    "    elif 8<temp<=16:\n",
    "        evening.append(temp)\n",
    "    elif 16<temp<=24:\n",
    "        day.append(temp)\n",
    "\n",
    "total=0\n",
    "for num in day:\n",
    "    total+=num\n",
    "\n",
    "print(\"Night temperatures:\", night)\n",
    "print(\"Evening temperatures:\", evening)\n",
    "print(\"Day temperatures:\", day)\n",
    "print(\"avg is \",total/len(day))"
   ]
  },
  {
   "cell_type": "code",
   "execution_count": null,
   "id": "f0762d18-5565-421e-94d3-912e633bd133",
   "metadata": {},
   "outputs": [],
   "source": []
  },
  {
   "cell_type": "markdown",
   "id": "d11902a0-4dcf-4301-8272-bb6432254f66",
   "metadata": {},
   "source": [
    "Task 1 - Sum of Nested Lists:\n",
    "Scenario: You have a list that contains numbers and other lists of numbers (nested lists).\n",
    "You want to find the total sum of all the numbers in this structure.\n",
    "Task:\n",
    "• Write a recursive function sum_nested_list(nested_list) that:\n",
    "1. Takes a nested list (a list that can contain numbers or other lists of numbers) as\n",
    "input.\n",
    "2. Sums all numbers at every depth level of the list, regardless of how deeply nested\n",
    "the numbers are.\n",
    "• Test the function with a sample nested list, such as\n",
    "nested_list = [1, [2, [3, 4], 5], 6, [7, 8]].\n",
    "The result should be the total sum of all the numbers."
   ]
  },
  {
   "cell_type": "code",
   "execution_count": 13,
   "id": "90ef421d-d32e-467d-b194-933c5a15e176",
   "metadata": {},
   "outputs": [
    {
     "name": "stdout",
     "output_type": "stream",
     "text": [
      "Total sum of the nested list: 38\n"
     ]
    }
   ],
   "source": [
    "def sum_nested_list(nested_list):\n",
    "    total = 0\n",
    "    for element in nested_list:\n",
    "        if isinstance(element, list): \n",
    "            total += sum_nested_list(element) \n",
    "        else:\n",
    "            total += element \n",
    "    return total\n",
    "    \n",
    "nested_list = [2, [1, [3, 4], 5], 7, [7, 9]]\n",
    "\n",
    "result = sum_nested_list(nested_list)\n",
    "print(\"Total sum of the nested list:\", result)\n"
   ]
  },
  {
   "cell_type": "markdown",
   "id": "f7d3f154-4aac-4345-a7ca-abeefb9c268d",
   "metadata": {},
   "source": [
    "Task 2 - Generate All Permutations of a String:\n",
    "Scenario: Given a string, generate all possible permutations of its characters. This is useful\n",
    "for understanding backtracking and recursive depth-first search.\n",
    "Task:\n",
    "• Write a recursive function generate_permutations(s) that:\n",
    "– Takes a string s as input and returns a list of all unique permutations.\n",
    "• Test with strings like ”abc” and ”aab”.\n",
    "print(generate_permutations(\"abc\"))\n",
    "# Should return [’abc’, ’acb’, ’bac’, ’bca’, ’cab’, ’cba’]"
   ]
  },
  {
   "cell_type": "code",
   "execution_count": 6,
   "id": "ee777a8a-ebeb-4724-939f-8715b6e0bf24",
   "metadata": {},
   "outputs": [
    {
     "name": "stdout",
     "output_type": "stream",
     "text": [
      "Permutations of 'abc': ['cba', 'abc', 'cab', 'bac', 'bca', 'acb']\n",
      "Permutations of 'aab': ['aab', 'aba', 'baa']\n"
     ]
    }
   ],
   "source": [
    "def generate_permutations(s):\n",
    "    if len(s) == 1:\n",
    "        return [s]\n",
    "        \n",
    "    permutations = []\n",
    "    \n",
    "    for i, char in enumerate(s):\n",
    "        remaining = s[:i] + s[i+1:]\n",
    "        for perm in generate_permutations(remaining):\n",
    "            permutations.append(char + perm)\n",
    "    return list(set(permutations))\n",
    "\n",
    "result_abc = generate_permutations(\"abc\")\n",
    "result_aab = generate_permutations(\"aab\")\n",
    "\n",
    "print(\"Permutations of 'abc':\", result_abc)\n",
    "print(\"Permutations of 'aab':\", result_aab)"
   ]
  },
  {
   "cell_type": "markdown",
   "id": "e74e60b0-d0a8-4f9a-8357-59396c0cf2b9",
   "metadata": {},
   "source": [
    "Task:\n",
    "1. Write a recursive function calculate_directory_size(directory) where:\n",
    "• directory is a dictionary where keys represent file names (with values as sizes in\n",
    "KB) or directory names (with values as another dictionary representing a subdi\u0002rectory).\n",
    "• The function should return the total size of the directory, including all nested\n",
    "subdirectories.\n",
    "2. Test the function with a sample directory structure."
   ]
  },
  {
   "cell_type": "code",
   "execution_count": 7,
   "id": "df0ae4af-afe6-47cf-b5e7-7530734ceff1",
   "metadata": {},
   "outputs": [
    {
     "name": "stdout",
     "output_type": "stream",
     "text": [
      "Total size of the directory (in KB): 1400\n"
     ]
    }
   ],
   "source": [
    "def calculate_directory_size(directory):\n",
    "    total_size = 0\n",
    "    for key, value in directory.items():\n",
    "        if isinstance(value, dict): \n",
    "            total_size += calculate_directory_size(value)  \n",
    "        else: \n",
    "            total_size += value\n",
    "    return total_size\n",
    "\n",
    "directory_structure = {\n",
    "    \"file1.txt\": 200,\n",
    "    \"file2.txt\": 300,\n",
    "    \"d\": {\n",
    "        \"file3.txt\": 400,\n",
    "        \"file4.txt\": 100\n",
    "    },\n",
    "    \"subdir2\": {\n",
    "        \"subsubdir1\": {\n",
    "            \"file5.txt\": 250\n",
    "        },\n",
    "        \"file6.txt\": 150\n",
    "    }\n",
    "}\n",
    "\n",
    "total_size = calculate_directory_size(directory_structure)\n",
    "print(\"Total size of the directory (in KB):\", total_size)\n"
   ]
  },
  {
   "cell_type": "markdown",
   "id": "20b5b5c4-e0e8-4575-b3ef-59c236ccf9d0",
   "metadata": {},
   "source": [
    "Task 1 - Coin Change Problem:\n",
    "Scenario: Given a set of coin denominations and a target amount, find the minimum number\n",
    "of coins needed to make the amount. If it’s not possible, return - 1.\n",
    "Task:\n",
    "1. Write a function min_coins(coins, amount) that:\n",
    "• Uses DP to calculate the minimum number of coins needed to make up the\n",
    "amount.\n",
    "2. Test with coins = [1, 2, 5] and amount = 11. The result should be 3 (using coins\n",
    "[5, 5, 1])"
   ]
  },
  {
   "cell_type": "code",
   "execution_count": 8,
   "id": "49b0e6e4-2323-4c79-b021-1584457691ae",
   "metadata": {},
   "outputs": [
    {
     "name": "stdout",
     "output_type": "stream",
     "text": [
      "Minimum coins needed for amount 11 : 3\n"
     ]
    }
   ],
   "source": [
    "def min_coins(coins, amount):\n",
    "    dp = [float('inf')] * (amount + 1)\n",
    "    dp[0] = 0  \n",
    "    \n",
    "    for coin in coins:\n",
    "        for i in range(coin, amount + 1):\n",
    "            dp[i] = min(dp[i], dp[i - coin] + 1)\n",
    "    \n",
    "    return dp[amount] if dp[amount] != float('inf') else -1\n",
    "\n",
    "coins = [1, 2, 5]\n",
    "amount = 11\n",
    "result = min_coins(coins, amount)\n",
    "print(\"Minimum coins needed for amount\", amount, \":\", result)"
   ]
  },
  {
   "cell_type": "markdown",
   "id": "e1c96883-413d-480b-bf51-70fc276c7a7c",
   "metadata": {},
   "source": [
    "Task 2 - Longest Common Subsequence (LCS):\n",
    "Scenario: Given two strings, find the length of their longest common subsequence (LCS).\n",
    "This is useful in text comparison.\n",
    "Task:\n",
    "1. Write a function longest_common_subsequence(s1, s2) that:\n",
    "• Uses DP to find the length of the LCS of two strings s1 and s2.\n",
    "2. Test with strings like \"abcde\" and \"ace\"; the LCS length should be 3 (\"ace\")."
   ]
  },
  {
   "cell_type": "code",
   "execution_count": 9,
   "id": "7a49eb03-02ff-4f7b-b723-87680b27ef06",
   "metadata": {},
   "outputs": [
    {
     "name": "stdout",
     "output_type": "stream",
     "text": [
      "Length of the Longest Common Subsequence: 3\n"
     ]
    }
   ],
   "source": [
    "def longest_common_subsequence(s1, s2):\n",
    "    m, n = len(s1), len(s2)\n",
    "    dp = [[0] * (n + 1) for _ in range(m + 1)]\n",
    "\n",
    "    for i in range(1, m + 1):\n",
    "        for j in range(1, n + 1):\n",
    "            if s1[i - 1] == s2[j - 1]:  # Characters match\n",
    "                dp[i][j] = dp[i - 1][j - 1] + 1\n",
    "            else:  # Characters don't match\n",
    "                dp[i][j] = max(dp[i - 1][j], dp[i][j - 1])\n",
    "    \n",
    "    return dp[m][n]\n",
    "\n",
    "s1 = \"abcde\"\n",
    "s2 = \"ace\"\n",
    "result = longest_common_subsequence(s1, s2)\n",
    "prnt(\"Length of the Longest Common Subsequence:\", result)\n"
   ]
  },
  {
   "cell_type": "markdown",
   "id": "9a39892b-055b-4576-9e49-ac69876f4e87",
   "metadata": {},
   "source": [
    "Task 3 - 0/1 Knapsack Problem:\n",
    "Scenario: You have a list of items, each with a weight and a value. Given a weight capacity,\n",
    "maximize the total value of items you can carry without exceeding the weight capacity.\n",
    "Task:\n",
    "1. Write a function knapsack(weights, values, capacity) that:\n",
    "• Uses DP to determine the maximum value that can be achieved within the given\n",
    "weight capacity.\n",
    "2. Test with weights [1, 3, 4, 5], values [1, 4, 5, 7], and capacity 7. The re\u0002sult should be 9."
   ]
  },
  {
   "cell_type": "code",
   "execution_count": 11,
   "id": "0b25bd5e-3124-4fe9-ad04-2f26c2351994",
   "metadata": {},
   "outputs": [
    {
     "name": "stdout",
     "output_type": "stream",
     "text": [
      "Maximum value that can be achieved: 9\n"
     ]
    }
   ],
   "source": [
    "def knapsack(weights, values, capacity):\n",
    "\n",
    "    n = len(weights)\n",
    "    dp = [[0] * (capacity + 1) for _ in range(n + 1)]\n",
    " \n",
    "    for i in range(1, n + 1):\n",
    "        for w in range(1, capacity + 1):\n",
    "            if weights[i - 1] <= w:  # Item can fit in the knapsack\n",
    "                dp[i][w] = max(dp[i - 1][w], dp[i - 1][w - weights[i - 1]] + values[i - 1])\n",
    "            else:  # Item cannot fit in the knapsack\n",
    "                dp[i][w] = dp[i - 1][w]\n",
    "\n",
    "    return dp[n][capacity]\n",
    "\n",
    "weights = [1, 3, 4, 5]\n",
    "values = [1, 4, 5, 7]\n",
    "capacity = 7\n",
    "result = knapsack(weights, values, capacity)\n",
    "print(\"Maximum value that can be achieved:\", result)\n"
   ]
  }
 ],
 "metadata": {
  "kernelspec": {
   "display_name": "Python 3 (ipykernel)",
   "language": "python",
   "name": "python3"
  },
  "language_info": {
   "codemirror_mode": {
    "name": "ipython",
    "version": 3
   },
   "file_extension": ".py",
   "mimetype": "text/x-python",
   "name": "python",
   "nbconvert_exporter": "python",
   "pygments_lexer": "ipython3",
   "version": "3.13.0"
  }
 },
 "nbformat": 4,
 "nbformat_minor": 5
}
